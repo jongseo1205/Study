{
 "cells": [
  {
   "cell_type": "markdown",
   "metadata": {},
   "source": [
    "##### 이진 탐색 알고리즘 \n",
    "> 순차탐색 : 앞에서부터 데이터를 하나씩 확인하는 방법 <br>\n",
    "> 이진 탐색 : 리스트가 정렬되어 있을 때 절반씩 좁혀가며 데이터를 탐색하는 방법"
   ]
  },
  {
   "cell_type": "code",
   "execution_count": 6,
   "metadata": {},
   "outputs": [],
   "source": [
    "# 이진 탐색 소스코드 구현(재귀 함수)\n",
    "def binary_search(array, target, start, end):\n",
    "    if start > end:\n",
    "        return None\n",
    "    mid = (start + end) // 2\n",
    "    # 찾은 경우 중간점 인덱스 반환\n",
    "    if array[mid] == target:\n",
    "        return mid\n",
    "    # 중간점의 값보다 찾고자 하는 값이 작은 경우 왼쪽 확인\n",
    "    elif array[mid] > target:\n",
    "        return binary_search(array, target, start, mid - 1)\n",
    "    # 중간점의 값보다 찾고자 하는 값이 큰 경우 오른쪽 확인\n",
    "    else:\n",
    "        return binary_search(array, target, mid + 1, end)"
   ]
  },
  {
   "cell_type": "code",
   "execution_count": 8,
   "metadata": {},
   "outputs": [
    {
     "name": "stdout",
     "output_type": "stream",
     "text": [
      "10 7\n",
      "1 3 5 7 9 11 13 15 17 19\n",
      "4\n"
     ]
    }
   ],
   "source": [
    "# n(원소의 개수)과 target(찾고자 하는 값)을 입력 받기\n",
    "n, target = list(map(int, input().split()))\n",
    "# 전체 원소 입력 받기\n",
    "array = list(map(int, input().split()))\n",
    "\n",
    "# 이진 탐색 수행 결과 출력\n",
    "result = binary_search(array, target, 0, n-1)\n",
    "if result == None:\n",
    "    print(\"원소가 존재하지 않습니다.\")\n",
    "else:\n",
    "    print(result + 1)"
   ]
  },
  {
   "cell_type": "code",
   "execution_count": 7,
   "metadata": {},
   "outputs": [
    {
     "name": "stdout",
     "output_type": "stream",
     "text": [
      "10 7\n",
      "1 3 5 6 9 11 13 15 17 19\n",
      "원소가 존재하지 않습니다.\n"
     ]
    }
   ],
   "source": [
    "# n(원소의 개수)과 target(찾고자 하는 값)을 입력 받기\n",
    "n, target = list(map(int, input().split()))\n",
    "# 전체 원소 입력 받기\n",
    "array = list(map(int, input().split()))\n",
    "\n",
    "# 이진 탐색 수행 결과 출력\n",
    "result = binary_search(array, target, 0, n-1)\n",
    "if result == None:\n",
    "    print(\"원소가 존재하지 않습니다.\")\n",
    "else:\n",
    "    print(result + 1)"
   ]
  },
  {
   "cell_type": "code",
   "execution_count": null,
   "metadata": {},
   "outputs": [],
   "source": []
  }
 ],
 "metadata": {
  "kernelspec": {
   "display_name": "Python 3",
   "language": "python",
   "name": "python3"
  },
  "language_info": {
   "codemirror_mode": {
    "name": "ipython",
    "version": 3
   },
   "file_extension": ".py",
   "mimetype": "text/x-python",
   "name": "python",
   "nbconvert_exporter": "python",
   "pygments_lexer": "ipython3",
   "version": "3.7.3"
  }
 },
 "nbformat": 4,
 "nbformat_minor": 2
}
