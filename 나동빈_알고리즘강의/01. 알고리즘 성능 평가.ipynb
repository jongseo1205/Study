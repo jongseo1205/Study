{
 "cells": [
  {
   "cell_type": "markdown",
   "metadata": {},
   "source": [
    "##### N개의 데이터의 합을 계산하는 프로그램"
   ]
  },
  {
   "cell_type": "code",
   "execution_count": 1,
   "metadata": {},
   "outputs": [
    {
     "name": "stdout",
     "output_type": "stream",
     "text": [
      "15\n"
     ]
    }
   ],
   "source": [
    "array = [3, 5, 1, 2, 4] # 5개의 데이터(N = 5)\n",
    "summary = 0 # 합계를 저장할 변수\n",
    "\n",
    "# 모든 데이터를 하나씩 확인하며 합계를 게산\n",
    "for x in array:\n",
    "    summary += x\n",
    "    \n",
    "# 결과를 출력\n",
    "print(summary)"
   ]
  },
  {
   "cell_type": "markdown",
   "metadata": {},
   "source": [
    "##### 2중 반복문을 이용하는 프로그램 "
   ]
  },
  {
   "cell_type": "code",
   "execution_count": 3,
   "metadata": {},
   "outputs": [],
   "source": [
    "array = [3, 5, 1, 2, 4]\n",
    "for i in array:\n",
    "    for j in array:\n",
    "        temp = i*j"
   ]
  },
  {
   "cell_type": "markdown",
   "metadata": {},
   "source": [
    "##### CPU 기반의 경우 채점용 컴퓨터는 5 ~ 15초 가량"
   ]
  },
  {
   "cell_type": "markdown",
   "metadata": {},
   "source": [
    "##### 문제에서 가장 먼저 확인해야 하는 내용은 시간제한\n",
    "> N의 범위가 500인 경우 : N^^3 <br>\n",
    "> N의 범위가 2000인 경우 : N^^2 <br>\n",
    "> N의 범위가 100,000 : NlogN <br>\n",
    "> N의 범위가 10,000,000 : N"
   ]
  },
  {
   "cell_type": "markdown",
   "metadata": {},
   "source": [
    "##### 걸리는 시간 측정"
   ]
  },
  {
   "cell_type": "code",
   "execution_count": 5,
   "metadata": {},
   "outputs": [
    {
     "name": "stdout",
     "output_type": "stream",
     "text": [
      "time: 0.0\n"
     ]
    }
   ],
   "source": [
    "import time\n",
    "start_time = time.time()\n",
    "## Modul ##\n",
    "end_time = time.time()\n",
    "print(\"time:\", end_time - start_time)"
   ]
  },
  {
   "cell_type": "markdown",
   "metadata": {},
   "source": [
    "##### 자료구조 - 정수형(integer)"
   ]
  },
  {
   "cell_type": "code",
   "execution_count": 6,
   "metadata": {},
   "outputs": [
    {
     "name": "stdout",
     "output_type": "stream",
     "text": [
      "1000\n",
      "-7\n",
      "0\n"
     ]
    }
   ],
   "source": [
    "# 양의 정수\n",
    "a = 1000\n",
    "print(a)\n",
    "\n",
    "# 음의 정수\n",
    "a = -7\n",
    "print(a)\n",
    "\n",
    "# 0\n",
    "a = 0\n",
    "print(a)"
   ]
  },
  {
   "cell_type": "markdown",
   "metadata": {},
   "source": [
    "##### 자료구조 - 정수형(integer)"
   ]
  },
  {
   "cell_type": "code",
   "execution_count": 6,
   "metadata": {},
   "outputs": [
    {
     "name": "stdout",
     "output_type": "stream",
     "text": [
      "1000\n",
      "-7\n",
      "0\n"
     ]
    }
   ],
   "source": [
    "# 양의 정수\n",
    "a = 1000\n",
    "print(a)\n",
    "\n",
    "# 음의 정수\n",
    "a = -7\n",
    "print(a)\n",
    "\n",
    "# 0\n",
    "a = 0\n",
    "print(a)"
   ]
  },
  {
   "cell_type": "markdown",
   "metadata": {},
   "source": [
    "##### 지수표현방식"
   ]
  },
  {
   "cell_type": "code",
   "execution_count": 10,
   "metadata": {},
   "outputs": [
    {
     "name": "stdout",
     "output_type": "stream",
     "text": [
      "1000000000.0\n",
      "752.5\n",
      "3.954\n"
     ]
    }
   ],
   "source": [
    "# 1e9 = 10**9\n",
    "a = 1e9\n",
    "print(a)\n",
    "\n",
    "# 752.5\n",
    "a = 75.25e1\n",
    "print(a)\n",
    "\n",
    "#3.954\n",
    "a = 3954e-3\n",
    "print(a)"
   ]
  },
  {
   "cell_type": "markdown",
   "metadata": {},
   "source": [
    "##### 10진수가 아니여서 미세한 오차가 발생한다"
   ]
  },
  {
   "cell_type": "code",
   "execution_count": 11,
   "metadata": {},
   "outputs": [
    {
     "name": "stdout",
     "output_type": "stream",
     "text": [
      "0.8999999999999999\n",
      "False\n"
     ]
    }
   ],
   "source": [
    "a = 0.3 + 0.6\n",
    "print(a)\n",
    "\n",
    "if a == 0.9:\n",
    "    print(True)\n",
    "else:\n",
    "    print(False)"
   ]
  },
  {
   "cell_type": "markdown",
   "metadata": {},
   "source": [
    "##### Round 함수를 이용하여 해결이 가능하다."
   ]
  },
  {
   "cell_type": "code",
   "execution_count": 18,
   "metadata": {},
   "outputs": [
    {
     "name": "stdout",
     "output_type": "stream",
     "text": [
      "0.8999999999999999\n",
      "True\n"
     ]
    }
   ],
   "source": [
    "a = 0.3 + 0.6\n",
    "print(a)\n",
    "\n",
    "if round(a, 2) == 0.9:\n",
    "    print(True)\n",
    "else:\n",
    "    print(False)"
   ]
  },
  {
   "cell_type": "markdown",
   "metadata": {},
   "source": [
    "##### 나눠진 결과는 실수형으로 반환(Return)"
   ]
  },
  {
   "cell_type": "code",
   "execution_count": 20,
   "metadata": {},
   "outputs": [
    {
     "name": "stdout",
     "output_type": "stream",
     "text": [
      "2.3333333333333335\n",
      "1\n",
      "2\n",
      "343\n",
      "2.6457513110645907\n"
     ]
    }
   ],
   "source": [
    "a = 7\n",
    "b = 3\n",
    "# 나누기 연산자 /\n",
    "print(a / b)\n",
    "# 나머지 연산자 %\n",
    "print(a % b)\n",
    "# 몫 연산자 //\n",
    "print(a // b)\n",
    "# 거듭 제곱 연산자 **\n",
    "print(a ** b)\n",
    "print(a ** 0.5)"
   ]
  },
  {
   "cell_type": "markdown",
   "metadata": {},
   "source": [
    "##### 배열(Array) or 리스트(List)"
   ]
  },
  {
   "cell_type": "code",
   "execution_count": 22,
   "metadata": {},
   "outputs": [
    {
     "name": "stdout",
     "output_type": "stream",
     "text": [
      "[1, 2, 3, 4, 5, 6, 7, 8, 9]\n",
      "4\n",
      "[0, 0, 0, 0, 0, 0, 0, 0, 0, 0]\n"
     ]
    }
   ],
   "source": [
    "# 직접 데이터를 넣어 초기화\n",
    "a = [1, 2, 3, 4, 5, 6, 7, 8, 9]\n",
    "print(a)\n",
    "\n",
    "# 네 번째 원소만 출력\n",
    "print(a[3])\n",
    "\n",
    "# 크기가 N이고, 모든 값이 0인 1차원 리스트 초기화\n",
    "n = 10\n",
    "a = [0] * n\n",
    "print(a)"
   ]
  },
  {
   "cell_type": "code",
   "execution_count": 24,
   "metadata": {},
   "outputs": [
    {
     "name": "stdout",
     "output_type": "stream",
     "text": [
      "0\n",
      "0\n",
      "0\n",
      "[0, 0, 0, 7, 0, 0, 0, 0, 0, 0]\n",
      "7\n",
      "[0, 0, 7]\n"
     ]
    }
   ],
   "source": [
    "# 리스트의 인덱싱\n",
    "print(a[7])\n",
    "print(a[-1])\n",
    "print(a[-3])\n",
    "a[3] = 7\n",
    "print(a)\n",
    "\n",
    "# 리스트 슬라이싱\n",
    "print(a[3])\n",
    "\n",
    "print(a[1:4])"
   ]
  },
  {
   "cell_type": "markdown",
   "metadata": {},
   "source": [
    "##### List comprehension - 2차원 리스트 초기화할 때 유용"
   ]
  },
  {
   "cell_type": "code",
   "execution_count": 26,
   "metadata": {},
   "outputs": [
    {
     "name": "stdout",
     "output_type": "stream",
     "text": [
      "[0, 1, 2, 3, 4, 5, 6, 7, 8, 9]\n",
      "[1, 3, 5, 7, 9, 11, 13, 15, 17, 19]\n",
      "[1, 4, 9, 16, 25, 36, 49, 64, 81]\n",
      "[1, 4, 9, 16, 25, 36, 49, 64, 81]\n"
     ]
    }
   ],
   "source": [
    "array = [i for i  in range(10)]\n",
    "print(array)\n",
    "\n",
    "array = [i for i in range(20) if i % 2 == 1]\n",
    "print(array)\n",
    "\n",
    "array = [i*i for i in range(1,10)]\n",
    "print(array)\n",
    "\n",
    "array = [i**2 for i in range(1,10)]\n",
    "print(array)"
   ]
  },
  {
   "cell_type": "code",
   "execution_count": 27,
   "metadata": {},
   "outputs": [
    {
     "name": "stdout",
     "output_type": "stream",
     "text": [
      "[[0, 0, 0], [0, 0, 0], [0, 0, 0], [0, 0, 0]]\n"
     ]
    }
   ],
   "source": [
    "# N X M 크기의 2차원 리스트 초기화\n",
    "n = 4\n",
    "m = 3\n",
    "array = [[0] * m for _ in range(n)]\n",
    "print(array)"
   ]
  },
  {
   "cell_type": "code",
   "execution_count": 29,
   "metadata": {},
   "outputs": [
    {
     "name": "stdout",
     "output_type": "stream",
     "text": [
      "[[0, 0, 0], [0, 0, 0], [0, 0, 0], [0, 0, 0]]\n",
      "[[0, 5, 0], [0, 5, 0], [0, 5, 0], [0, 5, 0]]\n"
     ]
    }
   ],
   "source": [
    "# 조심해야 될 2차원 리스트 초기화 예시\n",
    "array = [[0] *m] * n\n",
    "print(array)\n",
    "array[1][1] = 5\n",
    "print(array)"
   ]
  },
  {
   "cell_type": "code",
   "execution_count": 31,
   "metadata": {},
   "outputs": [
    {
     "name": "stdout",
     "output_type": "stream",
     "text": [
      "Hello World\n",
      "0\n",
      "Hello World\n",
      "1\n",
      "Hello World\n",
      "2\n",
      "Hello World\n",
      "3\n",
      "Hello World\n",
      "4\n"
     ]
    }
   ],
   "source": [
    "# 언더바(_) 파이썬에서 반복 수행하는 변수 값 무시할 때 사용\n",
    "for _ in range(5):\n",
    "    print(\"Hello World\")\n",
    "    print(_) # 하지만 _ 변수가 할당 되는 듯?"
   ]
  },
  {
   "cell_type": "markdown",
   "metadata": {},
   "source": [
    "##### List 함수"
   ]
  },
  {
   "cell_type": "code",
   "execution_count": 35,
   "metadata": {},
   "outputs": [
    {
     "name": "stdout",
     "output_type": "stream",
     "text": [
      "기본 리스트 :  [1, 4, 3]\n",
      "삽입 :  [1, 4, 3, 2]\n",
      "오름차순 정렬 :  [1, 2, 3, 4]\n",
      "내림차순 정렬 :  [4, 3, 2, 1]\n",
      "원소 뒤집기 :  [1, 2, 3, 4]\n",
      "인덱스 2에 3 추가 :  [1, 2, 3, 3, 4]\n",
      "값이 3인 데이터 개수:  2\n",
      "값이 1인 데이터 삭제 :  [2, 3, 3, 4]\n"
     ]
    }
   ],
   "source": [
    "a = [1, 4, 3]\n",
    "print(\"기본 리스트 : \", a)\n",
    "# append()\n",
    "a.append(2)\n",
    "print(\"삽입 : \", a)\n",
    "# sort() - 오름차순 정렬 ()안에 reverse = True 내림차순\n",
    "a.sort()\n",
    "print(\"오름차순 정렬 : \", a)\n",
    "a.sort(reverse = True)\n",
    "print(\"내림차순 정렬 : \", a)\n",
    "# reverse()\n",
    "a.reverse()\n",
    "print(\"원소 뒤집기 : \", a)\n",
    "# insert(삽입할 위치 인덱스. 삽입할 값)\n",
    "a.insert(2, 3)\n",
    "print(\"인덱스 2에 3 추가 : \", a)\n",
    "# count(특정값)\n",
    "print(\"값이 3인 데이터 개수: \", a.count(3))\n",
    "# remove(특정값)\n",
    "a.remove(1)\n",
    "print(\"값이 1인 데이터 삭제 : \", a)"
   ]
  },
  {
   "cell_type": "code",
   "execution_count": 36,
   "metadata": {},
   "outputs": [
    {
     "name": "stdout",
     "output_type": "stream",
     "text": [
      "[1, 2, 4]\n"
     ]
    }
   ],
   "source": [
    "a = [1, 2, 3, 4, 5, 5, 5]\n",
    "remove_set = {3, 5}\n",
    "result = [i for i in a if i not in remove_set]\n",
    "print(result)"
   ]
  },
  {
   "cell_type": "markdown",
   "metadata": {},
   "source": [
    "##### 문자열 자료형"
   ]
  },
  {
   "cell_type": "code",
   "execution_count": 37,
   "metadata": {},
   "outputs": [
    {
     "name": "stdout",
     "output_type": "stream",
     "text": [
      "Hello World\n",
      "Don't you konw \"Python\"?\n"
     ]
    }
   ],
   "source": [
    "data = \"Hello World\"\n",
    "print(data)\n",
    "\n",
    "data = \"Don't you konw \\\"Python\\\"?\"\n",
    "print(data)"
   ]
  },
  {
   "cell_type": "code",
   "execution_count": 38,
   "metadata": {},
   "outputs": [
    {
     "name": "stdout",
     "output_type": "stream",
     "text": [
      "HelloWorld\n",
      "HelloHelloHello\n",
      "ll\n"
     ]
    }
   ],
   "source": [
    "a = \"Hello\"\n",
    "b = \"World\"\n",
    "# 문자열 덧셈 - 글자가 더해짐\n",
    "print(a + b)\n",
    "# 문자열 곱셈 - 글자가 반복해서 나옴\n",
    "print(a * 3)\n",
    "# 문자열 임덱싱, 슬라이싱 사용 가능 그러나 변경 불가능\n",
    "print(a[2:4])"
   ]
  },
  {
   "cell_type": "code",
   "execution_count": null,
   "metadata": {},
   "outputs": [],
   "source": []
  }
 ],
 "metadata": {
  "kernelspec": {
   "display_name": "Python 3",
   "language": "python",
   "name": "python3"
  },
  "language_info": {
   "codemirror_mode": {
    "name": "ipython",
    "version": 3
   },
   "file_extension": ".py",
   "mimetype": "text/x-python",
   "name": "python",
   "nbconvert_exporter": "python",
   "pygments_lexer": "ipython3",
   "version": "3.7.3"
  }
 },
 "nbformat": 4,
 "nbformat_minor": 2
}
